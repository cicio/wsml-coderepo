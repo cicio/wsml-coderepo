{
 "cells": [
  {
   "cell_type": "markdown",
   "metadata": {},
   "source": [
    "# Regression Week 5: Feature Selection and LASSO (Interpretation)"
   ]
  },
  {
   "cell_type": "markdown",
   "metadata": {},
   "source": [
    "In this notebook, you will use LASSO to select features, building on a pre-implemented solver for LASSO (using GraphLab Create, though you can use other solvers). You will:\n",
    "* Run LASSO with different L1 penalties.\n",
    "* Choose best L1 penalty using a validation set.\n",
    "* Choose best L1 penalty using a validation set, with additional constraint on the size of subset.\n",
    "\n",
    "In the second notebook, you will implement your own LASSO solver, using coordinate descent. "
   ]
  },
  {
   "cell_type": "markdown",
   "metadata": {},
   "source": [
    "# Fire up graphlab create"
   ]
  },
  {
   "cell_type": "code",
   "execution_count": 1,
   "metadata": {
    "collapsed": true
   },
   "outputs": [],
   "source": [
    "import graphlab"
   ]
  },
  {
   "cell_type": "markdown",
   "metadata": {},
   "source": [
    "# Load in house sales data\n",
    "\n",
    "Dataset is from house sales in King County, the region where the city of Seattle, WA is located."
   ]
  },
  {
   "cell_type": "code",
   "execution_count": 2,
   "metadata": {
    "collapsed": false,
    "scrolled": true
   },
   "outputs": [
    {
     "name": "stderr",
     "output_type": "stream",
     "text": [
      "[INFO] \u001b[1;32m1451881407 : INFO:     (initialize_globals_from_environment:282): Setting configuration variable GRAPHLAB_FILEIO_ALTERNATIVE_SSL_CERT_FILE to /home/mwcruz/anaconda3/envs/dato-env/lib/python2.7/site-packages/certifi/cacert.pem\n",
      "\u001b[0m\u001b[1;32m1451881407 : INFO:     (initialize_globals_from_environment:282): Setting configuration variable GRAPHLAB_FILEIO_ALTERNATIVE_SSL_CERT_DIR to \n",
      "\u001b[0mThis non-commercial license of GraphLab Create is assigned to m@navegawireless.com and will expire on November 09, 2016. For commercial licensing options, visit https://dato.com/buy/.\n",
      "\n",
      "[INFO] Start server at: ipc:///tmp/graphlab_server-5178 - Server binary: /home/mwcruz/anaconda3/envs/dato-env/lib/python2.7/site-packages/graphlab/unity_server - Server log: /tmp/graphlab_server_1451881407.log\n",
      "[INFO] GraphLab Server Version: 1.7.1\n"
     ]
    }
   ],
   "source": [
    "sales = graphlab.SFrame('kc_house_data.gl/')"
   ]
  },
  {
   "cell_type": "markdown",
   "metadata": {},
   "source": [
    "# Create new features"
   ]
  },
  {
   "cell_type": "markdown",
   "metadata": {},
   "source": [
    "As in Week 2, we consider features that are some transformations of inputs."
   ]
  },
  {
   "cell_type": "code",
   "execution_count": 3,
   "metadata": {
    "collapsed": true
   },
   "outputs": [],
   "source": [
    "from math import log, sqrt\n",
    "sales['sqft_living_sqrt'] = sales['sqft_living'].apply(sqrt)\n",
    "sales['sqft_lot_sqrt'] = sales['sqft_lot'].apply(sqrt)\n",
    "sales['bedrooms_square'] = sales['bedrooms']*sales['bedrooms']\n",
    "\n",
    "# In the dataset, 'floors' was defined with type string, \n",
    "# so we'll convert them to float, before creating a new feature.\n",
    "sales['floors'] = sales['floors'].astype(float) \n",
    "sales['floors_square'] = sales['floors']*sales['floors']"
   ]
  },
  {
   "cell_type": "markdown",
   "metadata": {},
   "source": [
    "* Squaring bedrooms will increase the separation between not many bedrooms (e.g. 1) and lots of bedrooms (e.g. 4) since 1^2 = 1 but 4^2 = 16. Consequently this variable will mostly affect houses with many bedrooms.\n",
    "* On the other hand, taking square root of sqft_living will decrease the separation between big house and small house. The owner may not be exactly twice as happy for getting a house that is twice as big."
   ]
  },
  {
   "cell_type": "markdown",
   "metadata": {},
   "source": [
    "# Learn regression weights with L1 penalty"
   ]
  },
  {
   "cell_type": "markdown",
   "metadata": {},
   "source": [
    "Let us fit a model with all the features available, plus the features we just created above."
   ]
  },
  {
   "cell_type": "code",
   "execution_count": 4,
   "metadata": {
    "collapsed": false
   },
   "outputs": [],
   "source": [
    "all_features = ['bedrooms', 'bedrooms_square',\n",
    "            'bathrooms',\n",
    "            'sqft_living', 'sqft_living_sqrt',\n",
    "            'sqft_lot', 'sqft_lot_sqrt',\n",
    "            'floors', 'floors_square',\n",
    "            'waterfront', 'view', 'condition', 'grade',\n",
    "            'sqft_above',\n",
    "            'sqft_basement',\n",
    "            'yr_built', 'yr_renovated']"
   ]
  },
  {
   "cell_type": "markdown",
   "metadata": {},
   "source": [
    "Applying L1 penalty requires adding an extra parameter (`l1_penalty`) to the linear regression call in GraphLab Create. (Other tools may have separate implementations of LASSO.)  Note that it's important to set `l2_penalty=0` to ensure we don't introduce an additional L2 penalty."
   ]
  },
  {
   "cell_type": "code",
   "execution_count": 164,
   "metadata": {
    "collapsed": false
   },
   "outputs": [
    {
     "name": "stdout",
     "output_type": "stream",
     "text": [
      "PROGRESS: Linear regression:\n",
      "PROGRESS: --------------------------------------------------------\n",
      "PROGRESS: Number of examples          : 21613\n",
      "PROGRESS: Number of features          : 17\n",
      "PROGRESS: Number of unpacked features : 17\n",
      "PROGRESS: Number of coefficients    : 18\n",
      "PROGRESS: Starting Accelerated Gradient (FISTA)\n",
      "PROGRESS: --------------------------------------------------------\n",
      "PROGRESS: +-----------+----------+-----------+--------------+--------------------+---------------+\n",
      "PROGRESS: | Iteration | Passes   | Step size | Elapsed Time | Training-max_error | Training-rmse |\n",
      "PROGRESS: +-----------+----------+-----------+--------------+--------------------+---------------+\n",
      "PROGRESS: Tuning step size. First iteration could take longer than subsequent iterations.\n",
      "PROGRESS: | 1         | 2        | 0.000002  | 0.276563     | 6962915.603493     | 426631.749026 |\n",
      "PROGRESS: | 2         | 3        | 0.000002  | 0.300926     | 6843144.200219     | 392488.929838 |\n",
      "PROGRESS: | 3         | 4        | 0.000002  | 0.325051     | 6831900.032123     | 385340.166783 |\n",
      "PROGRESS: | 4         | 5        | 0.000002  | 0.350958     | 6847166.848958     | 384842.383767 |\n",
      "PROGRESS: | 5         | 6        | 0.000002  | 0.379643     | 6869667.895833     | 385998.458623 |\n",
      "PROGRESS: | 6         | 7        | 0.000002  | 0.404968     | 6847177.773672     | 380824.455891 |\n",
      "PROGRESS: +-----------+----------+-----------+--------------+--------------------+---------------+\n",
      "PROGRESS: TERMINATED: Iteration limit reached.\n",
      "PROGRESS: This model may not be optimal. To improve it, consider increasing `max_iterations`.\n"
     ]
    }
   ],
   "source": [
    "model_all = graphlab.linear_regression.create(sales, target='price', features=all_features,\n",
    "                                              validation_set=None, \n",
    "                                              l2_penalty=0., l1_penalty=1e10)"
   ]
  },
  {
   "cell_type": "markdown",
   "metadata": {},
   "source": [
    "Find what features had non-zero weight."
   ]
  },
  {
   "cell_type": "code",
   "execution_count": 165,
   "metadata": {
    "collapsed": false
   },
   "outputs": [
    {
     "name": "stdout",
     "output_type": "stream",
     "text": [
      "['(intercept)', 'bathrooms', 'sqft_living', 'sqft_living_sqrt', 'grade', 'sqft_above', ... ] 6\n"
     ]
    },
    {
     "data": {
      "text/plain": [
       "6"
      ]
     },
     "execution_count": 165,
     "metadata": {},
     "output_type": "execute_result"
    }
   ],
   "source": [
    "non_zero_features = model_all.coefficients[model_all.coefficients['value'] !=0]['name']\n",
    "print non_zero_features, len(non_zero_features)\n",
    "model_all.coefficients['value'].nnz()"
   ]
  },
  {
   "cell_type": "markdown",
   "metadata": {},
   "source": [
    "Note that a majority of the weights have been set to zero. So by setting an L1 penalty that's large enough, we are performing a subset selection. \n",
    "\n",
    "***QUIZ QUESTION***:\n",
    "According to this list of weights, which of the features have been chosen? "
   ]
  },
  {
   "cell_type": "markdown",
   "metadata": {},
   "source": [
    "# Selecting an L1 penalty"
   ]
  },
  {
   "cell_type": "markdown",
   "metadata": {},
   "source": [
    "To find a good L1 penalty, we will explore multiple values using a validation set. Let us do three way split into train, validation, and test sets:\n",
    "* Split our sales data into 2 sets: training and test\n",
    "* Further split our training data into two sets: train, validation\n",
    "\n",
    "Be *very* careful that you use seed = 1 to ensure you get the same answer!"
   ]
  },
  {
   "cell_type": "code",
   "execution_count": 14,
   "metadata": {
    "collapsed": true
   },
   "outputs": [],
   "source": [
    "(training_and_validation, testing) = sales.random_split(.9,seed=1) # initial train/test split\n",
    "(training, validation) = training_and_validation.random_split(0.5, seed=1) # split training into train and validate"
   ]
  },
  {
   "cell_type": "markdown",
   "metadata": {},
   "source": [
    "Next, we write a loop that does the following:\n",
    "* For `l1_penalty` in [10^1, 10^1.5, 10^2, 10^2.5, ..., 10^7] (to get this in Python, type `np.logspace(1, 7, num=13)`.)\n",
    "    * Fit a regression model with a given `l1_penalty` on TRAIN data. Specify `l1_penalty=l1_penalty` and `l2_penalty=0.` in the parameter list.\n",
    "    * Compute the RSS on VALIDATION data (here you will want to use `.predict()`) for that `l1_penalty`\n",
    "* Report which `l1_penalty` produced the lowest RSS on validation data.\n",
    "\n",
    "When you call `linear_regression.create()` make sure you set `validation_set = None`.\n",
    "\n",
    "Note: you can turn off the print out of `linear_regression.create()` with `verbose = False`"
   ]
  },
  {
   "cell_type": "code",
   "execution_count": 157,
   "metadata": {
    "collapsed": false
   },
   "outputs": [],
   "source": [
    "import numpy as np"
   ]
  },
  {
   "cell_type": "code",
   "execution_count": null,
   "metadata": {
    "collapsed": false
   },
   "outputs": [],
   "source": []
  },
  {
   "cell_type": "code",
   "execution_count": 168,
   "metadata": {
    "collapsed": false
   },
   "outputs": [
    {
     "name": "stdout",
     "output_type": "stream",
     "text": [
      "[[625766285142461.2, 'l1_1.00e+01'], [625766285362395.2, 'l1_3.16e+01'], [625766286057887.0, 'l1_1.00e+02'], [625766288257224.9, 'l1_3.16e+02'], [625766295212186.0, 'l1_1.00e+03'], [625766317206077.8, 'l1_3.16e+03'], [625766386760661.5, 'l1_1.00e+04'], [625766606749281.4, 'l1_3.16e+04'], [625767302791633.4, 'l1_1.00e+05'], [625769507643885.1, 'l1_3.16e+05'], [625776517727025.8, 'l1_1.00e+06'], [625799062845466.9, 'l1_3.16e+06'], [625883719085424.5, 'l1_1.00e+07']]\n",
      "[[18, 'l1_1.00e+01'], [18, 'l1_3.16e+01'], [18, 'l1_1.00e+02'], [18, 'l1_3.16e+02'], [18, 'l1_1.00e+03'], [18, 'l1_3.16e+03'], [18, 'l1_1.00e+04'], [18, 'l1_3.16e+04'], [18, 'l1_1.00e+05'], [18, 'l1_3.16e+05'], [18, 'l1_1.00e+06'], [18, 'l1_3.16e+06'], [18, 'l1_1.00e+07']]\n"
     ]
    }
   ],
   "source": [
    "RSS_list=[]\n",
    "non_zeros=[]\n",
    "for l1_penalty in np.logspace(1, 7, num=13):\n",
    "    model_many = graphlab.linear_regression.create(training, target='price', features=all_features,\n",
    "                                              validation_set=None, \n",
    "                                              l2_penalty=0., l1_penalty=l1_penalty, verbose=False)\n",
    "    predictions = model_many.predict(validation)\n",
    "    errors = predictions - validation['price']\n",
    "    rss_current = sum(errors**2)\n",
    "    key = \"l1_%.2e\" % l1_penalty\n",
    "    RSS_list.append([rss_current, key])\n",
    "    non_zeros.append([model_many.coefficients['value'].nnz(), key])\n",
    "print RSS_list\n",
    "print non_zeros\n",
    "\n",
    "\n",
    "    "
   ]
  },
  {
   "cell_type": "code",
   "execution_count": 169,
   "metadata": {
    "collapsed": false
   },
   "outputs": [
    {
     "name": "stdout",
     "output_type": "stream",
     "text": [
      "Best l1_penalty is l1_1.00e+01, with a RSS value on Validation set of 6.25766285142e+14\n"
     ]
    }
   ],
   "source": [
    "res = np.array(RSS_list)\n",
    "best_l1 = np.sort(res)[0]\n",
    "print \"Best l1_penalty is %s, with a RSS value on Validation set of %s\" % (best_l1[1], best_l1[0])\n"
   ]
  },
  {
   "cell_type": "code",
   "execution_count": 106,
   "metadata": {
    "collapsed": false,
    "scrolled": true
   },
   "outputs": [
    {
     "name": "stdout",
     "output_type": "stream",
     "text": [
      "6.25766285142e+14\n"
     ]
    }
   ],
   "source": [
    "small_rss = 1e17\n",
    "best_l1=0\n",
    "for pair in RSS_list:\n",
    "    if pair < small_rss:\n",
    "        small_rss = pair\n",
    "    else:\n",
    "        small_rss =small_rss\n",
    "print small_rss"
   ]
  },
  {
   "cell_type": "code",
   "execution_count": 173,
   "metadata": {
    "collapsed": false
   },
   "outputs": [
    {
     "name": "stdout",
     "output_type": "stream",
     "text": [
      "PROGRESS: Linear regression:\n",
      "PROGRESS: --------------------------------------------------------\n",
      "PROGRESS: Number of examples          : 21613\n",
      "PROGRESS: Number of features          : 17\n",
      "PROGRESS: Number of unpacked features : 17\n",
      "PROGRESS: Number of coefficients    : 18\n",
      "PROGRESS: Starting Accelerated Gradient (FISTA)\n",
      "PROGRESS: --------------------------------------------------------\n",
      "PROGRESS: +-----------+----------+-----------+--------------+--------------------+---------------+\n",
      "PROGRESS: | Iteration | Passes   | Step size | Elapsed Time | Training-max_error | Training-rmse |\n",
      "PROGRESS: +-----------+----------+-----------+--------------+--------------------+---------------+\n",
      "PROGRESS: Tuning step size. First iteration could take longer than subsequent iterations.\n",
      "PROGRESS: | 1         | 2        | 0.000002  | 0.272865     | 6306018.232993     | 313413.344721 |\n",
      "PROGRESS: | 2         | 3        | 0.000002  | 0.295606     | 6019513.777487     | 293369.342637 |\n",
      "PROGRESS: | 3         | 4        | 0.000002  | 0.326342     | 5903592.015248     | 288639.744638 |\n",
      "PROGRESS: | 4         | 5        | 0.000002  | 0.350757     | 5830435.640662     | 284383.788655 |\n",
      "PROGRESS: | 5         | 6        | 0.000002  | 0.374414     | 5757083.459662     | 280315.641755 |\n",
      "PROGRESS: | 6         | 7        | 0.000002  | 0.404506     | 5678327.292256     | 276610.230084 |\n",
      "PROGRESS: | 11        | 12       | 0.000002  | 0.528906     | 5293309.517486     | 263943.246354 |\n",
      "PROGRESS: | 50        | 51       | 0.000002  | 1.515561     | 4246723.339826     | 236735.336288 |\n",
      "PROGRESS: | 51        | 52       | 0.000002  | 1.538368     | 4246785.855003     | 236454.343685 |\n",
      "PROGRESS: | 100       | 101      | 0.000002  | 2.759038     | 4131169.122769     | 227614.486475 |\n",
      "PROGRESS: | 101       | 102      | 0.000002  | 2.782548     | 4127957.107237     | 227504.634002 |\n",
      "PROGRESS: | 150       | 151      | 0.000002  | 3.956887     | 4106540.682055     | 223387.812096 |\n",
      "PROGRESS: | 200       | 201      | 0.000002  | 5.139238     | 4049967.923272     | 221293.421512 |\n",
      "PROGRESS: | 250       | 251      | 0.000002  | 6.326940     | 3895785.346271     | 219867.484042 |\n",
      "PROGRESS: | 300       | 301      | 0.000002  | 7.534367     | 3740653.449102     | 218239.268732 |\n",
      "PROGRESS: | 350       | 351      | 0.000002  | 8.714745     | 3588400.704253     | 216823.347216 |\n",
      "PROGRESS: | 400       | 401      | 0.000002  | 9.923820     | 3450260.743941     | 215777.306673 |\n",
      "PROGRESS: | 450       | 451      | 0.000002  | 11.144655    | 3335037.020857     | 214964.365954 |\n",
      "PROGRESS: | 500       | 501      | 0.000002  | 12.372706    | 3238800.414544     | 214333.077589 |\n",
      "PROGRESS: | 501       | 502      | 0.000002  | 12.401981    | 3237081.412644     | 214322.632417 |\n",
      "PROGRESS: | 550       | 551      | 0.000002  | 13.849099    | 3161245.532925     | 213888.055710 |\n",
      "PROGRESS: | 600       | 601      | 0.000002  | 15.185377    | 3099074.901751     | 213508.078961 |\n",
      "PROGRESS: | 650       | 651      | 0.000002  | 16.501450    | 3057087.695647     | 213119.244888 |\n",
      "PROGRESS: | 700       | 701      | 0.000002  | 17.732987    | 3107287.920727     | 212709.153431 |\n",
      "PROGRESS: | 750       | 751      | 0.000002  | 19.233711    | 3117330.111855     | 212259.634303 |\n",
      "PROGRESS: | 800       | 801      | 0.000002  | 20.744994    | 3089668.519252     | 211763.964736 |\n",
      "PROGRESS: | 850       | 851      | 0.000002  | 21.938302    | 3050808.656691     | 211256.708223 |\n",
      "PROGRESS: | 900       | 901      | 0.000002  | 23.329607    | 3079462.932517     | 210759.946896 |\n",
      "PROGRESS: | 950       | 951      | 0.000002  | 24.925016    | 3107440.974015     | 210281.944987 |\n",
      "PROGRESS: | 1000      | 1001     | 0.000002  | 26.347609    | 3133396.113122     | 209835.588918 |\n",
      "PROGRESS: +-----------+----------+-----------+--------------+--------------------+---------------+\n",
      "PROGRESS: TERMINATED: Iteration limit reached.\n",
      "PROGRESS: This model may not be optimal. To improve it, consider increasing `max_iterations`.\n"
     ]
    }
   ],
   "source": [
    "model_best_l1 =  graphlab.linear_regression.create(sales, target='price', features=all_features,\n",
    "                                              validation_set=None, \n",
    "                                              l2_penalty=0., l1_penalty=1.00e+01, max_iterations=1000)"
   ]
  },
  {
   "cell_type": "code",
   "execution_count": 174,
   "metadata": {
    "collapsed": true
   },
   "outputs": [],
   "source": [
    "best_l1_weights = model.coefficients['value']\n",
    "def get_numpy_data(data_sframe, features, output):\n",
    "    data_sframe['constant'] = 1 # this is how you add a constant column to an SFrame\n",
    "    # add the column 'constant' to the front of the features list so that we can extract it along with the others:\n",
    "    features = ['constant'] + features # this is how you combine two lists\n",
    "    # select the columns of data_SFrame given by the features list into the SFrame features_sframe (now including constant):\n",
    "    features_sframe = data_sframe[features]\n",
    "    # the following line will convert the features_SFrame into a numpy matrix:\n",
    "    feature_matrix = features_sframe.to_numpy()\n",
    "    # assign the column of data_sframe associated with the output to the SArray output_sarray\n",
    "    output_sarray = data_sframe[output]\n",
    "    # the following will convert the SArray into a numpy array by first converting it to a list\n",
    "    output_array = output_sarray.to_numpy()\n",
    "    return(feature_matrix, output_array)\n"
   ]
  },
  {
   "cell_type": "code",
   "execution_count": 175,
   "metadata": {
    "collapsed": false
   },
   "outputs": [
    {
     "data": {
      "text/plain": [
       "156972779668688.69"
      ]
     },
     "execution_count": 175,
     "metadata": {},
     "output_type": "execute_result"
    }
   ],
   "source": [
    "test_feature_matrix,test_output_array = get_numpy_data(testing, all_features, 'price')\n",
    "test_prediction = np.dot(test_feature_matrix, best_l1_weights)\n",
    "test_RSS = sum((test_prediction - testing['price'])**2)\n",
    "test_RSS"
   ]
  },
  {
   "cell_type": "markdown",
   "metadata": {},
   "source": [
    "*** QUIZ QUESTIONS ***\n",
    "1. What was the best value for the `l1_penalty`? = 1e+01\n",
    "2. What is the RSS on TEST data of the model with the best `l1_penalty`?  156972779668688.69"
   ]
  },
  {
   "cell_type": "code",
   "execution_count": null,
   "metadata": {
    "collapsed": false
   },
   "outputs": [],
   "source": []
  },
  {
   "cell_type": "markdown",
   "metadata": {},
   "source": [
    "***QUIZ QUESTION***\n",
    "Also, using this value of L1 penalty, how many nonzero weights do you have?"
   ]
  },
  {
   "cell_type": "code",
   "execution_count": null,
   "metadata": {
    "collapsed": false
   },
   "outputs": [],
   "source": [
    "18"
   ]
  },
  {
   "cell_type": "markdown",
   "metadata": {},
   "source": [
    "# Limit the number of nonzero weights\n",
    "\n",
    "What if we absolutely wanted to limit ourselves to, say, 7 features? This may be important if we want to derive \"a rule of thumb\" --- an interpretable model that has only a few features in them."
   ]
  },
  {
   "cell_type": "markdown",
   "metadata": {},
   "source": [
    "In this section, you are going to implement a simple, two phase procedure to achive this goal:\n",
    "1. Explore a large range of `l1_penalty` values to find a narrow region of `l1_penalty` values where models are likely to have the desired number of non-zero weights.\n",
    "2. Further explore the narrow region you found to find a good value for `l1_penalty` that achieves the desired sparsity.  Here, we will again use a validation set to choose the best value for `l1_penalty`."
   ]
  },
  {
   "cell_type": "code",
   "execution_count": 176,
   "metadata": {
    "collapsed": true
   },
   "outputs": [],
   "source": [
    "max_nonzeros = 7"
   ]
  },
  {
   "cell_type": "markdown",
   "metadata": {},
   "source": [
    "## Exploring the larger range of values to find a narrow range with the desired sparsity\n",
    "\n",
    "Let's define a wide range of possible `l1_penalty_values`:"
   ]
  },
  {
   "cell_type": "code",
   "execution_count": 177,
   "metadata": {
    "collapsed": false
   },
   "outputs": [],
   "source": [
    "l1_penalty_values = np.logspace(8, 10, num=20)"
   ]
  },
  {
   "cell_type": "markdown",
   "metadata": {},
   "source": [
    "Now, implement a loop that search through this space of possible `l1_penalty` values:\n",
    "\n",
    "* For `l1_penalty` in `np.logspace(8, 10, num=20)`:\n",
    "    * Fit a regression model with a given `l1_penalty` on TRAIN data. Specify `l1_penalty=l1_penalty` and `l2_penalty=0.` in the parameter list. When you call `linear_regression.create()` make sure you set `validation_set = None`\n",
    "    * Extract the weights of the model and count the number of nonzeros. Save the number of nonzeros to a list.\n",
    "        * *Hint: `model['coefficients']['value']` gives you an SArray with the parameters you learned.  If you call the method `.nnz()` on it, you will find the number of non-zero parameters!* "
   ]
  },
  {
   "cell_type": "code",
   "execution_count": 178,
   "metadata": {
    "collapsed": true
   },
   "outputs": [],
   "source": [
    "non_zeros_list=[]\n",
    "for l1_penalty in l1_penalty_values:\n",
    "    key \n",
    "    model = graphlab.linear_regression.create(training, target='price', features=all_features,\n",
    "                                              validation_set=None, \n",
    "                                              l2_penalty=0., l1_penalty=l1_penalty, verbose=False)\n",
    "    non_zeros_list.append([model.coefficients['value'].nnz(), l1_penalty])\n",
    "    "
   ]
  },
  {
   "cell_type": "code",
   "execution_count": 193,
   "metadata": {
    "collapsed": false
   },
   "outputs": [
    {
     "data": {
      "text/plain": [
       "(2976351441.6313133, 3792690190.7322536)"
      ]
     },
     "execution_count": 193,
     "metadata": {},
     "output_type": "execute_result"
    }
   ],
   "source": [
    "lower_l1_penalty = np.array([ penalty[1] for penalty in non_zeros_list if penalty[0] > max_nonzeros]).max()\n",
    "upper_l1_penalty = np.array([ penalty[1] for penalty in non_zeros_list if penalty[0] < max_nonzeros]).min()\n",
    "\n",
    "lower_l1_penalty, upper_l1_penalty\n"
   ]
  },
  {
   "cell_type": "markdown",
   "metadata": {},
   "source": [
    "Out of this large range, we want to find the two ends of our desired narrow range of `l1_penalty`.  At one end, we will have `l1_penalty` values that have too few non-zeros, and at the other end, we will have an `l1_penalty` that has too many non-zeros.  \n",
    "\n",
    "More formally, find:\n",
    "* The largest `l1_penalty` that has more non-zeros than `max_nonzero` (if we pick a penalty smaller than this value, we will definitely have too many non-zero weights)\n",
    "    * Store this value in the variable `l1_penalty_min` (we will use it later)\n",
    "* The smallest `l1_penalty` that has fewer non-zeros than `max_nonzero` (if we pick a penalty larger than this value, we will definitely have too few non-zero weights)\n",
    "    * Store this value in the variable `l1_penalty_max` (we will use it later)\n",
    "\n",
    "\n",
    "*Hint: there are many ways to do this, e.g.:*\n",
    "* Programmatically within the loop above\n",
    "* Creating a list with the number of non-zeros for each value of `l1_penalty` and inspecting it to find the appropriate boundaries."
   ]
  },
  {
   "cell_type": "code",
   "execution_count": 198,
   "metadata": {
    "collapsed": false
   },
   "outputs": [
    {
     "data": {
      "text/plain": [
       "(2976351441.6313133, 3792690190.7322536)"
      ]
     },
     "execution_count": 198,
     "metadata": {},
     "output_type": "execute_result"
    }
   ],
   "source": [
    "l1_penalty_min = lower_l1_penalty\n",
    "l1_penalty_max = upper_l1_penalty\n",
    "l1_penalty_min, l1_penalty_max"
   ]
  },
  {
   "cell_type": "markdown",
   "metadata": {},
   "source": [
    "***QUIZ QUESTIONS***\n",
    "\n",
    "What values did you find for `l1_penalty_min` and`l1_penalty_max`? \n",
    "2976351441.6313133, 3792690190.7322536"
   ]
  },
  {
   "cell_type": "markdown",
   "metadata": {},
   "source": [
    "## Exploring the narrow range of values to find the solution with the right number of non-zeros that has lowest RSS on the validation set \n",
    "\n",
    "We will now explore the narrow region of `l1_penalty` values we found:"
   ]
  },
  {
   "cell_type": "code",
   "execution_count": 199,
   "metadata": {
    "collapsed": true
   },
   "outputs": [],
   "source": [
    "l1_penalty_values = np.linspace(l1_penalty_min,l1_penalty_max,20)"
   ]
  },
  {
   "cell_type": "markdown",
   "metadata": {},
   "source": [
    "* For `l1_penalty` in `np.linspace(l1_penalty_min,l1_penalty_max,20)`:\n",
    "    * Fit a regression model with a given `l1_penalty` on TRAIN data. Specify `l1_penalty=l1_penalty` and `l2_penalty=0.` in the parameter list. When you call `linear_regression.create()` make sure you set `validation_set = None`\n",
    "    * Measure the RSS of the learned model on the VALIDATION set\n",
    "\n",
    "Find the model that the lowest RSS on the VALIDATION set and has sparsity *equal* to `max_nonzero`."
   ]
  },
  {
   "cell_type": "code",
   "execution_count": 213,
   "metadata": {
    "collapsed": false
   },
   "outputs": [
    {
     "name": "stdout",
     "output_type": "stream",
     "text": [
      "[[10, 966925692362086.8, 2976351441.6313133], [10, 974019450084557.2, 3019316638.9524155], [10, 981188367942450.9, 3062281836.2735176], [10, 989328342459472.0, 3105247033.5946198], [10, 998783211265885.9, 3148212230.9157219], [10, 1008477167020096.5, 3191177428.236824], [10, 1018298780553818.6, 3234142625.5579262], [10, 1028247992205976.1, 3277107822.8790283], [8, 1034616909232829.2, 3320073020.2001305], [8, 1038554735941039.9, 3363038217.5212326], [8, 1043237237871704.1, 3406003414.8423347], [7, 1046937488751713.6, 3448968612.1634369], [7, 1051147625612863.0, 3491933809.484539], [7, 1055992735342999.2, 3534899006.8056412], [7, 1060799531763290.2, 3577864204.1267428], [6, 1065707689498229.6, 3620829401.447845], [6, 1069464335425583.9, 3663794598.7689471], [6, 1073504549585594.6, 3706759796.0900493], [6, 1077632775581412.0, 3749724993.4111514], [6, 1081867592324111.9, 3792690190.7322536]]\n",
      "[[10, 2976351441.6313133], [10, 3019316638.9524155], [10, 3062281836.2735176], [10, 3105247033.5946198], [10, 3148212230.9157219], [10, 3191177428.236824], [10, 3234142625.5579262], [10, 3277107822.8790283], [8, 3320073020.2001305], [8, 3363038217.5212326], [8, 3406003414.8423347], [7, 3448968612.1634369], [7, 3491933809.484539], [7, 3534899006.8056412], [7, 3577864204.1267428], [6, 3620829401.447845], [6, 3663794598.7689471], [6, 3706759796.0900493], [6, 3749724993.4111514], [6, 3792690190.7322536]]\n"
     ]
    }
   ],
   "source": [
    "RSS_list_7=[]\n",
    "non_zeros_7=[]\n",
    "for l1_penalty in l1_penalty_values:\n",
    "    model_7 = graphlab.linear_regression.create(training, target='price', features=all_features,\n",
    "                                              validation_set=None, \n",
    "                                              l2_penalty=0., l1_penalty=l1_penalty, verbose=False)\n",
    "    predictions_7 = model_7.predict(validation)\n",
    "    errors_7 = predictions_7 - validation['price']\n",
    "    rss_current_7= sum(errors_7**2)\n",
    "    RSS_list_7.append([model_7.coefficients['value'].nnz(), rss_current_7, l1_penalty])\n",
    "    non_zeros_7.append([model_7.coefficients['value'].nnz(), l1_penalty])\n",
    "print RSS_list_7\n",
    "print non_zeros_7"
   ]
  },
  {
   "cell_type": "code",
   "execution_count": 214,
   "metadata": {
    "collapsed": false
   },
   "outputs": [
    {
     "data": {
      "text/plain": [
       "[[7, 1046937488751713.6, 3448968612.1634369],\n",
       " [7, 1051147625612863.0, 3491933809.484539],\n",
       " [7, 1055992735342999.2, 3534899006.8056412],\n",
       " [7, 1060799531763290.2, 3577864204.1267428]]"
      ]
     },
     "execution_count": 214,
     "metadata": {},
     "output_type": "execute_result"
    }
   ],
   "source": [
    "right_sparsity = [penalty for penalty in RSS_list_7 if penalty[0] == max_nonzeros]\n",
    "right_sparsity"
   ]
  },
  {
   "cell_type": "code",
   "execution_count": 245,
   "metadata": {
    "collapsed": false
   },
   "outputs": [
    {
     "name": "stdout",
     "output_type": "stream",
     "text": [
      "+------------------+-------+---------------+\n",
      "|       name       | index |     value     |\n",
      "+------------------+-------+---------------+\n",
      "|   (intercept)    |  None | 222253.192544 |\n",
      "|     bedrooms     |  None | 661.722717782 |\n",
      "|    bathrooms     |  None | 15873.9572593 |\n",
      "|   sqft_living    |  None | 32.4102214513 |\n",
      "| sqft_living_sqrt |  None | 690.114773313 |\n",
      "|      grade       |  None | 2899.42026975 |\n",
      "|    sqft_above    |  None | 30.0115753022 |\n",
      "+------------------+-------+---------------+\n",
      "[7 rows x 3 columns]\n",
      "\n"
     ]
    }
   ],
   "source": [
    "sparse_model_7 = graphlab.linear_regression.create(training, target='price', features=all_features,\n",
    "                                              validation_set=None, \n",
    "                                              l2_penalty=0., l1_penalty=3448968612.1634369, verbose=False)\n",
    "features_7 = sparse_model_7.coefficients[sparse_model_7.coefficients['value']!=0]\n",
    "sparse_model_7.coefficients[sparse_model_7.coefficients['value'] != 0].print_rows(num_rows=7)"
   ]
  },
  {
   "cell_type": "markdown",
   "metadata": {},
   "source": [
    "***QUIZ QUESTIONS***\n",
    "1. What value of `l1_penalty` in our narrow range has the lowest RSS on the VALIDATION set and has sparsity *equal* to `max_nonzeros`?\n",
    "2. What features in this model have non-zero coefficients?"
   ]
  },
  {
   "cell_type": "code",
   "execution_count": 238,
   "metadata": {
    "collapsed": false
   },
   "outputs": [
    {
     "name": "stdout",
     "output_type": "stream",
     "text": [
      "The l1_penalty with lowest RSS is the 3.448969e+09 : \n"
     ]
    }
   ],
   "source": [
    "print \"The l1_penalty with lowest RSS is the %e : \" % right_sparsity[0][2]"
   ]
  },
  {
   "cell_type": "code",
   "execution_count": 248,
   "metadata": {
    "collapsed": false
   },
   "outputs": [
    {
     "name": "stdout",
     "output_type": "stream",
     "text": [
      "Features with non_zero coefficients are ['(intercept)', 'bedrooms', 'bathrooms', 'sqft_living', 'sqft_living_sqrt', 'grade', 'sqft_above']\n"
     ]
    }
   ],
   "source": [
    "print \"Features with non_zero coefficients are %s\" % features_7['name'][0:]"
   ]
  },
  {
   "cell_type": "code",
   "execution_count": null,
   "metadata": {
    "collapsed": true
   },
   "outputs": [],
   "source": []
  }
 ],
 "metadata": {
  "kernelspec": {
   "display_name": "Python 2",
   "language": "python",
   "name": "python2"
  },
  "language_info": {
   "codemirror_mode": {
    "name": "ipython",
    "version": 2
   },
   "file_extension": ".py",
   "mimetype": "text/x-python",
   "name": "python",
   "nbconvert_exporter": "python",
   "pygments_lexer": "ipython2",
   "version": "2.7.10"
  }
 },
 "nbformat": 4,
 "nbformat_minor": 0
}
